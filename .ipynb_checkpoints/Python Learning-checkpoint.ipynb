{
 "cells": [
  {
   "cell_type": "markdown",
   "id": "90a4f4e1",
   "metadata": {},
   "source": [
    "# Python Practice"
   ]
  },
  {
   "cell_type": "code",
   "execution_count": 2,
   "id": "4baab78c",
   "metadata": {},
   "outputs": [
    {
     "name": "stdout",
     "output_type": "stream",
     "text": [
      "Hello World\n"
     ]
    }
   ],
   "source": [
    "print('Hello World')"
   ]
  },
  {
   "cell_type": "code",
   "execution_count": 1,
   "id": "cefa4a6b",
   "metadata": {},
   "outputs": [
    {
     "data": {
      "text/plain": [
       "28"
      ]
     },
     "execution_count": 1,
     "metadata": {},
     "output_type": "execute_result"
    }
   ],
   "source": [
    "55-27"
   ]
  },
  {
   "cell_type": "code",
   "execution_count": 2,
   "id": "00fa9742",
   "metadata": {},
   "outputs": [
    {
     "name": "stdout",
     "output_type": "stream",
     "text": [
      "Addition 11+5 : 16\n",
      "Subtraction 11-5 : 6\n",
      "Multiplication 11*5 : 55\n",
      "Division 11/5 : 2.2\n",
      "Division (// returns quotient) 11//5 : 2\n",
      "Division (% returns remainder) 11%5 : 1\n",
      "Exponent 11**5 : 161051\n"
     ]
    }
   ],
   "source": [
    "a = 11 + 5  # addition\n",
    "print(\"Addition 11+5 :\", a)\n",
    "\n",
    "b = 11 - 5  # subtraction\n",
    "print(\"Subtraction 11-5 :\", b)\n",
    "\n",
    "c = 11 * 5  # multiplication\n",
    "print(\"Multiplication 11*5 :\", c)\n",
    "\n",
    "d = 11 / 5  # division\n",
    "print(\"Division 11/5 :\", d)\n",
    "\n",
    "e = 11 // 5  # returns quotient as result\n",
    "print(\"Division (// returns quotient) 11//5 :\", e)\n",
    "\n",
    "f = 11 % 5  # (modulus) returns remainder as result\n",
    "print(\"Division (% returns remainder) 11%5 :\", f)\n",
    "\n",
    "g = 11**5  # exponents\n",
    "print(\"Exponent 11**5 :\", g)"
   ]
  },
  {
   "cell_type": "code",
   "execution_count": 3,
   "id": "eedeeb4f",
   "metadata": {},
   "outputs": [
    {
     "name": "stdout",
     "output_type": "stream",
     "text": [
      "Result of 5+2*7-8/2**2+1 is : 18.0\n"
     ]
    }
   ],
   "source": [
    "print(\"Result of 5+2*7-8/2**2+1 is :\", 5 + 2 * 7 - 8 / 2**2 + 1)"
   ]
  },
  {
   "cell_type": "code",
   "execution_count": 4,
   "id": "1a25be34",
   "metadata": {},
   "outputs": [
    {
     "name": "stdout",
     "output_type": "stream",
     "text": [
      "Result of (5+2)*7-(8/2**2)+1 is : 48.0\n"
     ]
    }
   ],
   "source": [
    "print(\"Result of (5+2)*7-(8/2**2)+1 is :\", (5 + 2) * 7 - (8 / 2**2) + 1)"
   ]
  },
  {
   "cell_type": "markdown",
   "id": "dbb2ce38",
   "metadata": {},
   "source": [
    "### Boolean Operations"
   ]
  },
  {
   "cell_type": "code",
   "execution_count": 5,
   "id": "f9b786cc",
   "metadata": {},
   "outputs": [
    {
     "name": "stdout",
     "output_type": "stream",
     "text": [
      "11 is greater than 5: True\n",
      "11 is less than 5: False\n",
      "\n",
      "11 is lesser than or equal to  5: False\n",
      "11 is greater than or equal to 5: True\n",
      "\n",
      "11 is equal to 5: False\n",
      "11 is not equal to 5: True\n"
     ]
    }
   ],
   "source": [
    "print(\"11 is greater than 5:\", 11 > 5)  # greater than\n",
    "print(\"11 is less than 5:\", 11 < 5)  # less than\n",
    "\n",
    "print(\"\\n11 is lesser than or equal to  5:\", 11 <= 5)  # less than equal to\n",
    "print(\"11 is greater than or equal to 5:\", 11 >= 5)  # greater than equal to\n",
    "\n",
    "print(\"\\n11 is equal to 5:\", 11 == 5)  # equal to\n",
    "print(\"11 is not equal to 5:\", 11 != 5)  # not equal to"
   ]
  },
  {
   "cell_type": "code",
   "execution_count": 6,
   "id": "21e34615",
   "metadata": {},
   "outputs": [
    {
     "name": "stdout",
     "output_type": "stream",
     "text": [
      "11>5 or 11<5:  True\n",
      "11>5 and 11<5:  False\n",
      "\n",
      "False or True:  True\n",
      "False and True:  False\n",
      "\n",
      "not(True):  False\n",
      "not(False):  True\n"
     ]
    }
   ],
   "source": [
    "print(\"11>5 or 11<5: \", 11 > 5 or 11 < 5)\n",
    "print(\"11>5 and 11<5: \", 11 > 5 and 11 < 5)\n",
    "\n",
    "print(\"\\nFalse or True: \", False or True)\n",
    "print(\"False and True: \", False and True)\n",
    "\n",
    "print(\"\\nnot(True): \", not (True))\n",
    "print(\"not(False): \", not (False))"
   ]
  },
  {
   "cell_type": "markdown",
   "id": "3d1412d6",
   "metadata": {},
   "source": [
    "### Importing Libraries"
   ]
  },
  {
   "cell_type": "code",
   "execution_count": 7,
   "id": "f21bb896",
   "metadata": {},
   "outputs": [
    {
     "name": "stdout",
     "output_type": "stream",
     "text": [
      "m.sqrt(16):  4.0\n",
      "m.pi:  3.141592653589793\n",
      "m.e:  2.718281828459045 \n",
      "\n",
      "Help on built-in function sqrt in module math:\n",
      "\n",
      "sqrt(x, /)\n",
      "    Return the square root of x.\n",
      "\n"
     ]
    }
   ],
   "source": [
    "# math library is a library of mathematical functions and constants.\n",
    "import math as m\n",
    "\n",
    "# square root\n",
    "print(\"m.sqrt(16): \", m.sqrt(16))  \n",
    "\n",
    "# value of pi\n",
    "print(\"m.pi: \", m.pi)  \n",
    "\n",
    "# value of e\n",
    "print(\"m.e: \", m.e, \"\\n\")  \n",
    "\n",
    "# getting help for sqrt(math library)\n",
    "help(m.sqrt)\n"
   ]
  },
  {
   "cell_type": "code",
   "execution_count": 9,
   "id": "9d640059",
   "metadata": {},
   "outputs": [
    {
     "name": "stdout",
     "output_type": "stream",
     "text": [
      "tau:  6.283185307179586\n"
     ]
    }
   ],
   "source": [
    "# Only importing specific attributes or methods\n",
    "from math import tau\n",
    "\n",
    "# Value of Tau\n",
    "print(\"tau: \", tau)"
   ]
  },
  {
   "cell_type": "code",
   "execution_count": 10,
   "id": "feefa55d",
   "metadata": {},
   "outputs": [
    {
     "name": "stdout",
     "output_type": "stream",
     "text": [
      "\n",
      "Here is a list of the Python keywords.  Enter any keyword to get more help.\n",
      "\n",
      "False               class               from                or\n",
      "None                continue            global              pass\n",
      "True                def                 if                  raise\n",
      "and                 del                 import              return\n",
      "as                  elif                in                  try\n",
      "assert              else                is                  while\n",
      "async               except              lambda              with\n",
      "await               finally             nonlocal            yield\n",
      "break               for                 not                 \n",
      "\n"
     ]
    }
   ],
   "source": [
    "# We should not use these reserved keywords as our variable names\n",
    "help('keywords')"
   ]
  },
  {
   "cell_type": "code",
   "execution_count": 11,
   "id": "f3580d23",
   "metadata": {},
   "outputs": [
    {
     "name": "stdout",
     "output_type": "stream",
     "text": [
      "['False', 'None', 'True', 'and', 'as', 'assert', 'async', 'await', 'break', 'class', 'continue', 'def', 'del', 'elif', 'else', 'except', 'finally', 'for', 'from', 'global', 'if', 'import', 'in', 'is', 'lambda', 'nonlocal', 'not', 'or', 'pass', 'raise', 'return', 'try', 'while', 'with', 'yield']\n"
     ]
    }
   ],
   "source": [
    "# keyword library contains all Python built-in keywords\n",
    "\n",
    "import keyword\n",
    "print(keyword.kwlist)"
   ]
  },
  {
   "cell_type": "code",
   "execution_count": 12,
   "id": "4cbdfb8c",
   "metadata": {},
   "outputs": [
    {
     "data": {
      "text/plain": [
       "['__all__',\n",
       " '__builtins__',\n",
       " '__cached__',\n",
       " '__doc__',\n",
       " '__file__',\n",
       " '__loader__',\n",
       " '__name__',\n",
       " '__package__',\n",
       " '__spec__',\n",
       " 'iskeyword',\n",
       " 'issoftkeyword',\n",
       " 'kwlist',\n",
       " 'softkwlist']"
      ]
     },
     "execution_count": 12,
     "metadata": {},
     "output_type": "execute_result"
    }
   ],
   "source": [
    "# Getting list of all methods in the keyword library\n",
    "dir(keyword)"
   ]
  },
  {
   "cell_type": "markdown",
   "id": "58c89245",
   "metadata": {},
   "source": [
    "### type()"
   ]
  },
  {
   "cell_type": "code",
   "execution_count": 13,
   "id": "a59acf21",
   "metadata": {},
   "outputs": [
    {
     "data": {
      "text/plain": [
       "int"
      ]
     },
     "execution_count": 13,
     "metadata": {},
     "output_type": "execute_result"
    }
   ],
   "source": [
    "a = 1\n",
    "type(a)"
   ]
  },
  {
   "cell_type": "code",
   "execution_count": 14,
   "id": "fac8705c",
   "metadata": {},
   "outputs": [
    {
     "data": {
      "text/plain": [
       "float"
      ]
     },
     "execution_count": 14,
     "metadata": {},
     "output_type": "execute_result"
    }
   ],
   "source": [
    "b = 2.5\n",
    "type(b)"
   ]
  },
  {
   "cell_type": "code",
   "execution_count": 15,
   "id": "7c1eef4f",
   "metadata": {},
   "outputs": [
    {
     "data": {
      "text/plain": [
       "str"
      ]
     },
     "execution_count": 15,
     "metadata": {},
     "output_type": "execute_result"
    }
   ],
   "source": [
    "c = 'Hello'\n",
    "type(c)"
   ]
  },
  {
   "cell_type": "code",
   "execution_count": 16,
   "id": "58e8494d",
   "metadata": {},
   "outputs": [
    {
     "data": {
      "text/plain": [
       "bool"
      ]
     },
     "execution_count": 16,
     "metadata": {},
     "output_type": "execute_result"
    }
   ],
   "source": [
    "d = False\n",
    "type(d)"
   ]
  },
  {
   "cell_type": "code",
   "execution_count": 17,
   "id": "3f11bd4b",
   "metadata": {},
   "outputs": [
    {
     "data": {
      "text/plain": [
       "list"
      ]
     },
     "execution_count": 17,
     "metadata": {},
     "output_type": "execute_result"
    }
   ],
   "source": [
    "e = [1,2,3]\n",
    "type(e)"
   ]
  },
  {
   "cell_type": "code",
   "execution_count": 18,
   "id": "e5fdf16d",
   "metadata": {},
   "outputs": [
    {
     "data": {
      "text/plain": [
       "tuple"
      ]
     },
     "execution_count": 18,
     "metadata": {},
     "output_type": "execute_result"
    }
   ],
   "source": [
    "f = (10,20,30)\n",
    "type(f)"
   ]
  },
  {
   "cell_type": "code",
   "execution_count": 19,
   "id": "13bee5bc",
   "metadata": {},
   "outputs": [
    {
     "data": {
      "text/plain": [
       "set"
      ]
     },
     "execution_count": 19,
     "metadata": {},
     "output_type": "execute_result"
    }
   ],
   "source": [
    "g = {1,2,3}\n",
    "type(g)"
   ]
  },
  {
   "cell_type": "code",
   "execution_count": 20,
   "id": "4c4de853",
   "metadata": {},
   "outputs": [
    {
     "data": {
      "text/plain": [
       "dict"
      ]
     },
     "execution_count": 20,
     "metadata": {},
     "output_type": "execute_result"
    }
   ],
   "source": [
    "h = {1:10, 2:20, 3:30}\n",
    "type(h)"
   ]
  },
  {
   "cell_type": "markdown",
   "id": "e1016a34",
   "metadata": {},
   "source": [
    "### Data types and structures"
   ]
  },
  {
   "cell_type": "code",
   "execution_count": 22,
   "id": "fc50040d",
   "metadata": {},
   "outputs": [
    {
     "name": "stdout",
     "output_type": "stream",
     "text": [
      "x: Orange\n",
      "y: Yellow\n",
      "\n",
      "x==y: False\n",
      "x is y: False\n",
      "x!=y: True\n",
      "x True\n",
      "x>y False\n",
      "1=='1': False\n"
     ]
    }
   ],
   "source": [
    "x = \"Orange\"  # using double quotes\n",
    "y = 'Yellow'  # using single quotes\n",
    "\n",
    "print(\"x:\", x)\n",
    "print(\"y:\", y)\n",
    "\n",
    "# equal to\n",
    "print(\"\\nx==y:\", x == y)\n",
    "\n",
    "# is statement is equivalent to ==\n",
    "print(\"x is y:\", x is y)\n",
    "\n",
    "# not equal to\n",
    "print(\"x!=y:\", x != y)\n",
    "\n",
    "# less than, returns true as 'o' comes before 'y'\n",
    "print(\"x\", x < y)\n",
    "\n",
    "# greater than, returns false as 'o' comes before 'y'\n",
    "print(\"x>y\", x > y)\n",
    "\n",
    "# 1 is an integer while '1' is a string\n",
    "print(\"1=='1':\", 1 == '1')"
   ]
  },
  {
   "cell_type": "code",
   "execution_count": 23,
   "id": "bb177aa2",
   "metadata": {},
   "outputs": [
    {
     "data": {
      "text/plain": [
       "''"
      ]
     },
     "execution_count": 23,
     "metadata": {},
     "output_type": "execute_result"
    }
   ],
   "source": [
    "# This is an empty string\n",
    "s = ''\n",
    "s"
   ]
  },
  {
   "cell_type": "code",
   "execution_count": 24,
   "id": "0b0e45a7",
   "metadata": {},
   "outputs": [
    {
     "name": "stdout",
     "output_type": "stream",
     "text": [
      "s1: abcdef\n",
      "s2: abcdef\n",
      "s1 == s2: True\n",
      "s1 is s2: True\n",
      "\n",
      "s3: abc-def\n",
      "s4: abc-def\n",
      "s3 == s4: True\n",
      "s3 is s4: False\n"
     ]
    }
   ],
   "source": [
    "# A String Peculiarity\n",
    "\n",
    "s1 = 'abcdef'\n",
    "s2 = 'abcdef'\n",
    "print('s1:', s1)\n",
    "print('s2:', s2)\n",
    "print(\"s1 == s2:\", s1 == s2)  # returns True\n",
    "print(\"s1 is s2:\", s1 is s2)  # returns True\n",
    "\n",
    "s3 = 'abc-def'\n",
    "s4 = 'abc-def'\n",
    "print('\\ns3:', s3)\n",
    "print('s4:', s4)\n",
    "print(\"s3 == s4:\", s3 == s4)  # returns True\n",
    "\n",
    "# returns False because of the introduction of special character\n",
    "print(\"s3 is s4:\", s3 is s4)"
   ]
  },
  {
   "cell_type": "code",
   "execution_count": 25,
   "id": "110cdb5f",
   "metadata": {},
   "outputs": [
    {
     "name": "stdout",
     "output_type": "stream",
     "text": [
      "s: This is a sample text.\n",
      "\n",
      "Length of the string 's' is: 22\n"
     ]
    }
   ],
   "source": [
    "s = \"This is a sample text.\"\n",
    "print(\"s:\", s)\n",
    "\n",
    "# special characters and white spaces are also counted\n",
    "print(\"\\nLength of the string 's' is:\", len(s))"
   ]
  },
  {
   "cell_type": "code",
   "execution_count": 26,
   "id": "35e39817",
   "metadata": {},
   "outputs": [
    {
     "name": "stdout",
     "output_type": "stream",
     "text": [
      "a: This is a sample string\n",
      "\n",
      "'sample' in a: True\n",
      "'test' in a: False\n",
      "'sample' not in a: False\n"
     ]
    }
   ],
   "source": [
    "a = \"This is a sample string\"\n",
    "print(\"a:\", a)\n",
    "\n",
    "print(\"\\n'sample' in a:\", 'sample' in a)\n",
    "print(\"'test' in a:\", 'test' in a)\n",
    "print(\"'sample' not in a:\", 'sample' not in a)  # not in means not a substring"
   ]
  },
  {
   "cell_type": "code",
   "execution_count": 28,
   "id": "9c240b60",
   "metadata": {},
   "outputs": [
    {
     "name": "stdout",
     "output_type": "stream",
     "text": [
      "s: Some text\n",
      "len(s): 9\n",
      "\n",
      "First character, s[0]: S\n",
      "\n",
      "Character at index position 7, s[7]: x\n",
      "\n",
      "Last character, ,s[length-1]: t\n",
      "\n",
      "Last character using negative indexing, s[-1]: t\n",
      "\n",
      "Character at index position 4 from the end, s[-4]: t\n",
      "\n",
      "First character, s[-(length)]: S\n"
     ]
    }
   ],
   "source": [
    "s = \"Some text\"\n",
    "print(\"s:\", s)\n",
    "length = len(s)\n",
    "print(\"len(s):\", length)\n",
    "\n",
    "print(\"\\nFirst character, s[0]:\", s[0])  # first character\n",
    "\n",
    "# fetches the character at index position 7 in the string\n",
    "print(\"\\nCharacter at index position 7, s[7]:\", s[7])\n",
    "\n",
    "# last character\n",
    "print(\"\\nLast character, ,s[length-1]:\", s[length - 1])\n",
    "\n",
    "# Negative indexing is also possible, fetches last element\n",
    "print(\"\\nLast character using negative indexing, s[-1]:\", s[-1])\n",
    "\n",
    "# fetches 4th element from the end (equivalent to index position 7 from the beginning)\n",
    "print(\"\\nCharacter at index position 4 from the end, s[-4]:\", s[-4])\n",
    "\n",
    "# fetches first element (equivalent to s[0])\n",
    "print(\"\\nFirst character, s[-(length)]:\", s[-(length)])"
   ]
  },
  {
   "cell_type": "code",
   "execution_count": 5,
   "id": "baf5cf7c",
   "metadata": {},
   "outputs": [
    {
     "name": "stdout",
     "output_type": "stream",
     "text": [
      "s: this is a sample string.\n",
      "\n",
      "s[1:12]: his is a sa\n",
      "s[1:12:2]: hsi  a\n",
      "s[::-1]: .gnirts elpmas a si siht\n"
     ]
    }
   ],
   "source": [
    "s = \"this is a sample string.\"\n",
    "print(\"s:\", s)\n",
    "\n",
    "# extracts substring from index position 1 to index position 11\n",
    "print(\"\\ns[1:12]:\", s[1:12])\n",
    "\n",
    "# extracts substring from index position 1 to index position 11 while skipping two places\n",
    "print(\"s[1:12:2]:\", s[1:12:2])\n",
    "\n",
    "# reverses the string\n",
    "print(\"s[::-1]:\", s[::-1])"
   ]
  },
  {
   "cell_type": "code",
   "execution_count": 6,
   "id": "06837331",
   "metadata": {},
   "outputs": [
    {
     "name": "stdout",
     "output_type": "stream",
     "text": [
      "Text 1\n",
      "Text 2\n"
     ]
    }
   ],
   "source": [
    "print(\"Text 1\\nText 2\")  # two separate lines are printed"
   ]
  },
  {
   "cell_type": "code",
   "execution_count": 7,
   "id": "08245e26",
   "metadata": {},
   "outputs": [
    {
     "name": "stdout",
     "output_type": "stream",
     "text": [
      "Text 1\\nText 2\n"
     ]
    }
   ],
   "source": [
    "# In order to print \\n as text, we insert a backslash as an escape sequence.\n",
    "print(\"Text 1\\\\nText 2\")"
   ]
  },
  {
   "cell_type": "code",
   "execution_count": 9,
   "id": "6bfa2a2d",
   "metadata": {},
   "outputs": [
    {
     "name": "stdout",
     "output_type": "stream",
     "text": [
      "Text 1\\nText 2\n"
     ]
    }
   ],
   "source": [
    "# Letter 'r' can also be placed before the string as an alternative to escape sequence (works similar to above)\n",
    "print(r\"Text 1\\nText 2\")"
   ]
  },
  {
   "cell_type": "code",
   "execution_count": 10,
   "id": "8b662ca5",
   "metadata": {},
   "outputs": [
    {
     "name": "stdout",
     "output_type": "stream",
     "text": [
      "Text 1\tText 2\n"
     ]
    }
   ],
   "source": [
    "# \\t represents a tab\n",
    "print(\"Text 1\\tText 2\")"
   ]
  },
  {
   "cell_type": "code",
   "execution_count": 11,
   "id": "8d23f813",
   "metadata": {},
   "outputs": [
    {
     "name": "stdout",
     "output_type": "stream",
     "text": [
      "This is a test paragraph using double quotes.\n",
      "This is another line.\n",
      "\n",
      "This is a second paragraph using single quotes.\n",
      "Multiple lines can be used.\n",
      "\n",
      "This is a third paragraph. Multiple lines can be used. If we use \\ in the end of line, it continues to remain in the same line.\n",
      "\n",
      "Class of paragraph: <class 'str'>\n",
      "Length of paragraph: 68\n"
     ]
    }
   ],
   "source": [
    "paragraph = \"\"\"This is a test paragraph using double quotes.\n",
    "This is another line.\\n\"\"\"\n",
    "print(paragraph)\n",
    "\n",
    "second_paragraph = '''This is a second paragraph using single quotes.\n",
    "Multiple lines can be used.\\n'''\n",
    "print(second_paragraph)\n",
    "\n",
    "third_paragraph = '''This is a third paragraph. \\\n",
    "Multiple lines can be used. \\\n",
    "If we use \\ in the end of line, it continues to remain in the same line.\\n'''\n",
    "print(third_paragraph)\n",
    "\n",
    "# paragraph is used mostly for documentation. It is of String datatype.\n",
    "print(\"Class of paragraph:\", type(paragraph))\n",
    "print(\"Length of paragraph:\", len(paragraph))"
   ]
  },
  {
   "cell_type": "code",
   "execution_count": 12,
   "id": "18c24447",
   "metadata": {},
   "outputs": [
    {
     "name": "stdout",
     "output_type": "stream",
     "text": [
      "Hey! Hey! Hey! \n"
     ]
    }
   ],
   "source": [
    "s1 = 'Hey! '\n",
    "print(s1 * 3)  # 3 copies of string s1"
   ]
  },
  {
   "cell_type": "code",
   "execution_count": 13,
   "id": "bd52b1cc",
   "metadata": {},
   "outputs": [
    {
     "data": {
      "text/plain": [
       "'This is a concatenated string.'"
      ]
     },
     "execution_count": 13,
     "metadata": {},
     "output_type": "execute_result"
    }
   ],
   "source": [
    "\"This is a \" + 'concatenated string.'"
   ]
  },
  {
   "cell_type": "code",
   "execution_count": 14,
   "id": "aadcb23d",
   "metadata": {},
   "outputs": [
    {
     "name": "stdout",
     "output_type": "stream",
     "text": [
      "s: this is a sample string.\n",
      "\n",
      "s.upper(): THIS IS A SAMPLE STRING.\n",
      "s.lower(): this is a sample string.\n",
      "s.capitalize(): This is a sample string.\n",
      "s.title(): This Is A Sample String.\n"
     ]
    }
   ],
   "source": [
    "s = \"this is a sample string.\"\n",
    "print(\"s:\", s)\n",
    "\n",
    "# converts string into upper case\n",
    "print(\"\\ns.upper():\", s.upper())\n",
    "\n",
    "# converts string into lower case\n",
    "print(\"s.lower():\", s.lower())\n",
    "\n",
    "# capitalize the first letter\n",
    "print(\"s.capitalize():\", s.capitalize())\n",
    "\n",
    "# returns the string with first capital letter of each word\n",
    "print(\"s.title():\", s.title())"
   ]
  },
  {
   "cell_type": "code",
   "execution_count": 15,
   "id": "228def33",
   "metadata": {},
   "outputs": [
    {
     "name": "stdout",
     "output_type": "stream",
     "text": [
      "s: this is a sample string.\n",
      "\n",
      "s.replace(\" \",\"_\"): this_is_a_sample_string.\n",
      "s.replace('sample','test'): this is a test string.\n",
      "\n",
      "s.count('s'): 4\n",
      "\n",
      "s.split(): ['this', 'is', 'a', 'sample', 'string.']\n",
      "s.split('s'): ['thi', ' i', ' a ', 'ample ', 'tring.']\n"
     ]
    }
   ],
   "source": [
    "s = \"this is a sample string.\"\n",
    "print(\"s:\", s)\n",
    "\n",
    "# replaces blank space with underscore\n",
    "print('\\ns.replace(\" \",\"_\"):', s.replace(\" \", \"_\"))\n",
    "\n",
    "# replaces sample with test\n",
    "print(\"s.replace('sample','test'):\", s.replace('sample', 'test'))\n",
    "\n",
    "# returns the number of occurrences, without overlap\n",
    "print(\"\\ns.count('s'):\", s.count('s'))\n",
    "\n",
    "# splits the string (on blank spaces), returns a list\n",
    "print(\"\\ns.split():\", s.split())\n",
    "\n",
    "# splits the string (on character 's')\n",
    "print(\"s.split('s'):\", s.split('s'))"
   ]
  },
  {
   "cell_type": "code",
   "execution_count": 17,
   "id": "040cd3d6",
   "metadata": {},
   "outputs": [
    {
     "name": "stdout",
     "output_type": "stream",
     "text": [
      "s: this is a sample string.\n",
      "\n",
      "s.find('amp'): 11\n",
      "s.index('amp'): 11\n",
      "\n",
      "s.startswith('this'): True\n",
      "s.endswith('this'): False\n",
      "\n",
      "s.endswith('string.'): True\n"
     ]
    }
   ],
   "source": [
    "s = \"this is a sample string.\"\n",
    "print(\"s:\", s)\n",
    "\n",
    "# returns the starting index position of the first occurence\n",
    "print(\"\\ns.find('amp'):\", s.find('amp'))\n",
    "\n",
    "# returns the index of specified string\n",
    "print(\"s.index('amp'):\", s.index('amp'))\n",
    "\n",
    "# checks the start of the string\n",
    "print(\"\\ns.startswith('this'):\", s.startswith('this'))\n",
    "\n",
    "# checks the end of the string\n",
    "print(\"s.endswith('this'):\", s.endswith('this'))\n",
    "print(\"\\ns.endswith('string.'):\", s.endswith('string.'))"
   ]
  },
  {
   "cell_type": "code",
   "execution_count": 18,
   "id": "e052b62a",
   "metadata": {},
   "outputs": [
    {
     "name": "stdout",
     "output_type": "stream",
     "text": [
      "a:    String with spaces      \n",
      "len(a): 28\n",
      "\n",
      "a.lstrip():String with spaces      \n",
      "len(a.lstrip()): 24\n",
      "\n",
      "a.rstrip():    String with spaces\n",
      "len(a.rstrip()): 22\n",
      "\n",
      "a.strip():String with spaces\n",
      "len(a.strip()): 18\n"
     ]
    }
   ],
   "source": [
    "a = \"    String with spaces      \"\n",
    "print(\"a:\" + a)\n",
    "print(\"len(a):\", len(a))\n",
    "\n",
    "# lstrip removes the white spaces from the left side\n",
    "print(\"\\na.lstrip():\" + a.lstrip())\n",
    "print(\"len(a.lstrip()):\", len(a.lstrip()))\n",
    "\n",
    "# rstrip removes the white spaces from the right side\n",
    "print(\"\\na.rstrip():\" + a.rstrip())\n",
    "print(\"len(a.rstrip()):\", len(a.rstrip()))\n",
    "\n",
    "# strip() removes the white spaces from the left and right end\n",
    "print(\"\\na.strip():\" + a.strip())\n",
    "print(\"len(a.strip()):\", len(a.strip()))"
   ]
  },
  {
   "cell_type": "code",
   "execution_count": 19,
   "id": "0f076b32",
   "metadata": {},
   "outputs": [
    {
     "name": "stdout",
     "output_type": "stream",
     "text": [
      "s: 00543\n",
      "s.lstrip('0'): 543\n"
     ]
    }
   ],
   "source": [
    "s = \"00543\"\n",
    "print(\"s:\", s)\n",
    "print(\"s.lstrip('0'):\", s.lstrip('0'))"
   ]
  },
  {
   "cell_type": "code",
   "execution_count": 20,
   "id": "1c69e1e9",
   "metadata": {},
   "outputs": [
    {
     "name": "stdout",
     "output_type": "stream",
     "text": [
      "s: SamPlE TeXt\n",
      "s.swapcase(): sAMpLe tExT\n"
     ]
    }
   ],
   "source": [
    "s = 'SamPlE TeXt'\n",
    "print('s:', s)\n",
    "\n",
    "# Swaps cases for all the letters of the string\n",
    "print('s.swapcase():', s.swapcase())"
   ]
  },
  {
   "cell_type": "code",
   "execution_count": 22,
   "id": "ed223cd3",
   "metadata": {},
   "outputs": [
    {
     "name": "stdout",
     "output_type": "stream",
     "text": [
      "s: 12345ABCdef\n",
      "s.isalnum(): True\n"
     ]
    }
   ],
   "source": [
    "s = '12345ABCdef'\n",
    "print('s:', s)\n",
    "\n",
    "# Checks whether the string is alphanumeric\n",
    "print('s.isalnum():', s.isalnum())"
   ]
  },
  {
   "cell_type": "code",
   "execution_count": 23,
   "id": "0b43840f",
   "metadata": {},
   "outputs": [
    {
     "name": "stdout",
     "output_type": "stream",
     "text": [
      "s: 56893\n",
      "s.isnumeric(): True\n"
     ]
    }
   ],
   "source": [
    "s = '56893'\n",
    "print('s:', s)\n",
    "\n",
    "# Checks whether the string is numeric\n",
    "print('s.isnumeric():', s.isnumeric())"
   ]
  },
  {
   "cell_type": "code",
   "execution_count": 26,
   "id": "045e34df",
   "metadata": {},
   "outputs": [
    {
     "name": "stdout",
     "output_type": "stream",
     "text": [
      "s: Learning_Python\n",
      "s.isalpha(): False\n"
     ]
    }
   ],
   "source": [
    "s = 'Learning_Python'\n",
    "print('s:', s)\n",
    "\n",
    "# Checks whether the string is alphabetic\n",
    "print('s.isalpha():', s.isalpha())"
   ]
  },
  {
   "cell_type": "code",
   "execution_count": 27,
   "id": "ab7f998e",
   "metadata": {},
   "outputs": [
    {
     "name": "stdout",
     "output_type": "stream",
     "text": [
      "s: Coding\n",
      "s.isalpha(): True\n",
      "s.islower(): False\n",
      "s.isupper(): False\n",
      "s.istitle(): True\n",
      "s.isspace(): False\n"
     ]
    }
   ],
   "source": [
    "s = 'Coding'\n",
    "print('s:', s)\n",
    "\n",
    "# Checks whether the string is alphabetic\n",
    "print('s.isalpha():', s.isalpha())\n",
    "\n",
    "# Checks whether the string has lowercase\n",
    "print('s.islower():', s.islower())\n",
    "\n",
    "# Checks whether the string has uppercase\n",
    "print('s.isupper():', s.isupper())\n",
    "\n",
    "# Checks whether the string has a title cased\n",
    "print('s.istitle():', s.istitle())\n",
    "\n",
    "# Checks whether all characters in string are whitespace\n",
    "print('s.isspace():', s.isspace())"
   ]
  },
  {
   "cell_type": "code",
   "execution_count": 28,
   "id": "3a27747c",
   "metadata": {},
   "outputs": [
    {
     "name": "stdout",
     "output_type": "stream",
     "text": [
      "s: Test-String\n",
      "s.partition('-'): ('Test', '-', 'String')\n",
      "\n",
      "s: Test-Long-String\n",
      "s.partition('-'): ('Test', '-', 'Long-String')\n"
     ]
    }
   ],
   "source": [
    "# includes the first occurrence of the separator sandwiched between the first half and the end half\n",
    "s = 'Test-String'\n",
    "print(\"s:\", s)\n",
    "print(\"s.partition('-'):\", s.partition('-'))\n",
    "\n",
    "# except the first occurrence of separator, the other separators are excluded\n",
    "s = 'Test-Long-String'\n",
    "print(\"\\ns:\", s)\n",
    "print(\"s.partition('-'):\", s.partition('-'))"
   ]
  },
  {
   "cell_type": "code",
   "execution_count": 29,
   "id": "f0e5f449",
   "metadata": {},
   "outputs": [
    {
     "name": "stdout",
     "output_type": "stream",
     "text": [
      "I want two colors\n",
      "\n",
      "I want three colors\n",
      "\n",
      "I want four colors\n"
     ]
    }
   ],
   "source": [
    "# {} are used for substituting text\n",
    "s = \"I want {} colors\".format(\"two\")\n",
    "print(s)\n",
    "\n",
    "# Variable is passed within {}\n",
    "print(\"\\nI want {n} colors\".format(n=\"three\"))\n",
    "\n",
    "# Using f-strings, .format() can be also be replaced using f in the starting\n",
    "n = 'four'\n",
    "print(f\"\\nI want {n} colors\")"
   ]
  },
  {
   "cell_type": "code",
   "execution_count": 31,
   "id": "1eb6a0c2",
   "metadata": {},
   "outputs": [
    {
     "name": "stdout",
     "output_type": "stream",
     "text": [
      "My 2 favourite colors are blue and pink\n",
      "\n",
      "My 2 favourite colors are blue and pink\n",
      "\n",
      "My 2 favourite colors are blue and pink\n",
      "\n",
      "My 2 favourite colors are blue and pink\n"
     ]
    }
   ],
   "source": [
    "color1 = 'blue'\n",
    "color2 = 'pink'\n",
    "number = 2\n",
    "\n",
    "# Using .format()\n",
    "print('My {} favourite colors are {} and {}'.format(number, color1, color2))\n",
    "\n",
    "# Using .format(), passing arguments 0,1,2, and so on\n",
    "print('\\nMy {0} favourite colors are {1} and {2}'.format(number, color1, color2))\n",
    "\n",
    "# Using .format(), passing variables instead of arguments\n",
    "print('\\nMy {a} favourite colors are {b} and {c}'.format(a=number,\n",
    "                                                         b=color1,\n",
    "                                                         c=color2))\n",
    "\n",
    "# Best Implementation, using f-strings\n",
    "print(f'\\nMy {number} favourite colors are {color1} and {color2}')"
   ]
  },
  {
   "cell_type": "code",
   "execution_count": 32,
   "id": "b62ed2d7",
   "metadata": {},
   "outputs": [
    {
     "name": "stdout",
     "output_type": "stream",
     "text": [
      "My text has string: Hello!\n",
      "My text has string containing % sign and Hello!\n",
      "\n",
      "My text has number: 42\n",
      "My text has number with 0 decimal places: 42\n",
      "My text has number with 4 decimal places: 42.4000\n"
     ]
    }
   ],
   "source": [
    "# C-style substitution and formatting\n",
    "print(\"My text has string: %s\" % (\"Hello!\"))\n",
    "\n",
    "# % sign acts as an escape sequence\n",
    "print(\"My text has string containing %% sign and %s\" % (\"Hello!\"))\n",
    "\n",
    "print(\"\\nMy text has number: %d\" % (42.4))\n",
    "print(\"My text has number with 0 decimal places: %.0f\" % (42.4))\n",
    "print(\"My text has number with 4 decimal places: %.4f\" % (42.4))"
   ]
  },
  {
   "cell_type": "code",
   "execution_count": 33,
   "id": "8e44060f",
   "metadata": {},
   "outputs": [
    {
     "name": "stdout",
     "output_type": "stream",
     "text": [
      "Values are: pi=3.1415926 and e=2.7182818\n",
      "\n",
      "Values are: pi=3.14 and e=2.718\n"
     ]
    }
   ],
   "source": [
    "pi = 3.1415926\n",
    "e = 2.7182818\n",
    "print(f'Values are: pi={pi} and e={e}')\n",
    "\n",
    "values = [pi, e]\n",
    "print(f'\\nValues are: pi={values[0]:.2f} and e={values[1]:.3f}')"
   ]
  },
  {
   "cell_type": "markdown",
   "id": "65caf915",
   "metadata": {},
   "source": [
    "## Lists"
   ]
  },
  {
   "cell_type": "markdown",
   "id": "e02e44a6",
   "metadata": {},
   "source": [
    "A List is created using square brackets []. \n",
    "\n",
    "Lists are mutable"
   ]
  },
  {
   "cell_type": "code",
   "execution_count": 34,
   "id": "ec36ba8a",
   "metadata": {},
   "outputs": [
    {
     "data": {
      "text/plain": [
       "[]"
      ]
     },
     "execution_count": 34,
     "metadata": {},
     "output_type": "execute_result"
    }
   ],
   "source": [
    "# This is an empty List\n",
    "a = []\n",
    "a"
   ]
  },
  {
   "cell_type": "code",
   "execution_count": 35,
   "id": "16ccab92",
   "metadata": {},
   "outputs": [
    {
     "name": "stdout",
     "output_type": "stream",
     "text": [
      "a: [12, 'abc', 8.95, 'xyz', [2, 6]]\n",
      "b: [4, 7, 2, 4]\n",
      "\n",
      "c: [12, 'abc', 8.95, 'xyz', [2, 6], 4, 7, 2, 4]\n",
      "Length of c: 9\n",
      "\n",
      "'abc' in a: True\n",
      "35 in b: False\n",
      "12 not in a: False\n",
      "\n",
      "2*b: [4, 7, 2, 4, 4, 7, 2, 4]\n",
      "\n",
      "min(b): 2\n",
      "max(b): 7\n",
      "sum(b): 17\n"
     ]
    }
   ],
   "source": [
    "a = [12, 'abc', 8.95, \"xyz\", [2, 6]]\n",
    "print(\"a:\", a)\n",
    "b = [4, 7, 2, 4]\n",
    "print(\"b:\", b)\n",
    "\n",
    "# concatenation of two lists\n",
    "c = a + b\n",
    "print(\"\\nc:\", c)\n",
    "print(\"Length of c:\", len(c))\n",
    "\n",
    "print(\"\\n'abc' in a:\", 'abc' in a)\n",
    "print(\"35 in b:\", 35 in b)\n",
    "print(\"12 not in a:\", 12 not in a)\n",
    "\n",
    "# Multiplication, two copies of list b\n",
    "print(\"\\n2*b:\", 2 * b)\n",
    "\n",
    "# minimum in list (list must not have strings)\n",
    "print(\"\\nmin(b):\", min(b))\n",
    "\n",
    "# maximum in list (list must not have strings)\n",
    "print(\"max(b):\", max(b))\n",
    "\n",
    "# sum of list elements (list must not have strings)\n",
    "print(\"sum(b):\", sum(b))"
   ]
  },
  {
   "cell_type": "code",
   "execution_count": null,
   "id": "483ffcbb",
   "metadata": {},
   "outputs": [],
   "source": [
    "ßss"
   ]
  }
 ],
 "metadata": {
  "kernelspec": {
   "display_name": "Python 3 (ipykernel)",
   "language": "python",
   "name": "python3"
  },
  "language_info": {
   "codemirror_mode": {
    "name": "ipython",
    "version": 3
   },
   "file_extension": ".py",
   "mimetype": "text/x-python",
   "name": "python",
   "nbconvert_exporter": "python",
   "pygments_lexer": "ipython3",
   "version": "3.9.10"
  }
 },
 "nbformat": 4,
 "nbformat_minor": 5
}
