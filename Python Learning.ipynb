{
 "cells": [
  {
   "cell_type": "markdown",
   "id": "90a4f4e1",
   "metadata": {},
   "source": [
    "# Python Practice"
   ]
  },
  {
   "cell_type": "code",
   "execution_count": 2,
   "id": "4baab78c",
   "metadata": {},
   "outputs": [
    {
     "name": "stdout",
     "output_type": "stream",
     "text": [
      "Hello World\n"
     ]
    }
   ],
   "source": [
    "print('Hello World')"
   ]
  },
  {
   "cell_type": "code",
   "execution_count": 1,
   "id": "cefa4a6b",
   "metadata": {},
   "outputs": [
    {
     "data": {
      "text/plain": [
       "28"
      ]
     },
     "execution_count": 1,
     "metadata": {},
     "output_type": "execute_result"
    }
   ],
   "source": [
    "55-27"
   ]
  },
  {
   "cell_type": "code",
   "execution_count": 2,
   "id": "00fa9742",
   "metadata": {},
   "outputs": [
    {
     "name": "stdout",
     "output_type": "stream",
     "text": [
      "Addition 11+5 : 16\n",
      "Subtraction 11-5 : 6\n",
      "Multiplication 11*5 : 55\n",
      "Division 11/5 : 2.2\n",
      "Division (// returns quotient) 11//5 : 2\n",
      "Division (% returns remainder) 11%5 : 1\n",
      "Exponent 11**5 : 161051\n"
     ]
    }
   ],
   "source": [
    "a = 11 + 5  # addition\n",
    "print(\"Addition 11+5 :\", a)\n",
    "\n",
    "b = 11 - 5  # subtraction\n",
    "print(\"Subtraction 11-5 :\", b)\n",
    "\n",
    "c = 11 * 5  # multiplication\n",
    "print(\"Multiplication 11*5 :\", c)\n",
    "\n",
    "d = 11 / 5  # division\n",
    "print(\"Division 11/5 :\", d)\n",
    "\n",
    "e = 11 // 5  # returns quotient as result\n",
    "print(\"Division (// returns quotient) 11//5 :\", e)\n",
    "\n",
    "f = 11 % 5  # (modulus) returns remainder as result\n",
    "print(\"Division (% returns remainder) 11%5 :\", f)\n",
    "\n",
    "g = 11**5  # exponents\n",
    "print(\"Exponent 11**5 :\", g)"
   ]
  },
  {
   "cell_type": "code",
   "execution_count": 3,
   "id": "eedeeb4f",
   "metadata": {},
   "outputs": [
    {
     "name": "stdout",
     "output_type": "stream",
     "text": [
      "Result of 5+2*7-8/2**2+1 is : 18.0\n"
     ]
    }
   ],
   "source": [
    "print(\"Result of 5+2*7-8/2**2+1 is :\", 5 + 2 * 7 - 8 / 2**2 + 1)"
   ]
  },
  {
   "cell_type": "code",
   "execution_count": 4,
   "id": "1a25be34",
   "metadata": {},
   "outputs": [
    {
     "name": "stdout",
     "output_type": "stream",
     "text": [
      "Result of (5+2)*7-(8/2**2)+1 is : 48.0\n"
     ]
    }
   ],
   "source": [
    "print(\"Result of (5+2)*7-(8/2**2)+1 is :\", (5 + 2) * 7 - (8 / 2**2) + 1)"
   ]
  },
  {
   "cell_type": "markdown",
   "id": "dbb2ce38",
   "metadata": {},
   "source": [
    "### Boolean Operations"
   ]
  },
  {
   "cell_type": "code",
   "execution_count": 5,
   "id": "f9b786cc",
   "metadata": {},
   "outputs": [
    {
     "name": "stdout",
     "output_type": "stream",
     "text": [
      "11 is greater than 5: True\n",
      "11 is less than 5: False\n",
      "\n",
      "11 is lesser than or equal to  5: False\n",
      "11 is greater than or equal to 5: True\n",
      "\n",
      "11 is equal to 5: False\n",
      "11 is not equal to 5: True\n"
     ]
    }
   ],
   "source": [
    "print(\"11 is greater than 5:\", 11 > 5)  # greater than\n",
    "print(\"11 is less than 5:\", 11 < 5)  # less than\n",
    "\n",
    "print(\"\\n11 is lesser than or equal to  5:\", 11 <= 5)  # less than equal to\n",
    "print(\"11 is greater than or equal to 5:\", 11 >= 5)  # greater than equal to\n",
    "\n",
    "print(\"\\n11 is equal to 5:\", 11 == 5)  # equal to\n",
    "print(\"11 is not equal to 5:\", 11 != 5)  # not equal to"
   ]
  },
  {
   "cell_type": "code",
   "execution_count": 6,
   "id": "21e34615",
   "metadata": {},
   "outputs": [
    {
     "name": "stdout",
     "output_type": "stream",
     "text": [
      "11>5 or 11<5:  True\n",
      "11>5 and 11<5:  False\n",
      "\n",
      "False or True:  True\n",
      "False and True:  False\n",
      "\n",
      "not(True):  False\n",
      "not(False):  True\n"
     ]
    }
   ],
   "source": [
    "print(\"11>5 or 11<5: \", 11 > 5 or 11 < 5)\n",
    "print(\"11>5 and 11<5: \", 11 > 5 and 11 < 5)\n",
    "\n",
    "print(\"\\nFalse or True: \", False or True)\n",
    "print(\"False and True: \", False and True)\n",
    "\n",
    "print(\"\\nnot(True): \", not (True))\n",
    "print(\"not(False): \", not (False))"
   ]
  },
  {
   "cell_type": "markdown",
   "id": "3d1412d6",
   "metadata": {},
   "source": [
    "### Importing Libraries"
   ]
  },
  {
   "cell_type": "code",
   "execution_count": 7,
   "id": "f21bb896",
   "metadata": {},
   "outputs": [
    {
     "name": "stdout",
     "output_type": "stream",
     "text": [
      "m.sqrt(16):  4.0\n",
      "m.pi:  3.141592653589793\n",
      "m.e:  2.718281828459045 \n",
      "\n",
      "Help on built-in function sqrt in module math:\n",
      "\n",
      "sqrt(x, /)\n",
      "    Return the square root of x.\n",
      "\n"
     ]
    }
   ],
   "source": [
    "# math library is a library of mathematical functions and constants.\n",
    "import math as m\n",
    "\n",
    "# square root\n",
    "print(\"m.sqrt(16): \", m.sqrt(16))  \n",
    "\n",
    "# value of pi\n",
    "print(\"m.pi: \", m.pi)  \n",
    "\n",
    "# value of e\n",
    "print(\"m.e: \", m.e, \"\\n\")  \n",
    "\n",
    "# getting help for sqrt(math library)\n",
    "help(m.sqrt)\n"
   ]
  },
  {
   "cell_type": "code",
   "execution_count": 9,
   "id": "9d640059",
   "metadata": {},
   "outputs": [
    {
     "name": "stdout",
     "output_type": "stream",
     "text": [
      "tau:  6.283185307179586\n"
     ]
    }
   ],
   "source": [
    "# Only importing specific attributes or methods\n",
    "from math import tau\n",
    "\n",
    "# Value of Tau\n",
    "print(\"tau: \", tau)"
   ]
  },
  {
   "cell_type": "code",
   "execution_count": 10,
   "id": "feefa55d",
   "metadata": {},
   "outputs": [
    {
     "name": "stdout",
     "output_type": "stream",
     "text": [
      "\n",
      "Here is a list of the Python keywords.  Enter any keyword to get more help.\n",
      "\n",
      "False               class               from                or\n",
      "None                continue            global              pass\n",
      "True                def                 if                  raise\n",
      "and                 del                 import              return\n",
      "as                  elif                in                  try\n",
      "assert              else                is                  while\n",
      "async               except              lambda              with\n",
      "await               finally             nonlocal            yield\n",
      "break               for                 not                 \n",
      "\n"
     ]
    }
   ],
   "source": [
    "# We should not use these reserved keywords as our variable names\n",
    "help('keywords')"
   ]
  },
  {
   "cell_type": "code",
   "execution_count": 11,
   "id": "f3580d23",
   "metadata": {},
   "outputs": [
    {
     "name": "stdout",
     "output_type": "stream",
     "text": [
      "['False', 'None', 'True', 'and', 'as', 'assert', 'async', 'await', 'break', 'class', 'continue', 'def', 'del', 'elif', 'else', 'except', 'finally', 'for', 'from', 'global', 'if', 'import', 'in', 'is', 'lambda', 'nonlocal', 'not', 'or', 'pass', 'raise', 'return', 'try', 'while', 'with', 'yield']\n"
     ]
    }
   ],
   "source": [
    "# keyword library contains all Python built-in keywords\n",
    "\n",
    "import keyword\n",
    "print(keyword.kwlist)"
   ]
  },
  {
   "cell_type": "code",
   "execution_count": 12,
   "id": "4cbdfb8c",
   "metadata": {},
   "outputs": [
    {
     "data": {
      "text/plain": [
       "['__all__',\n",
       " '__builtins__',\n",
       " '__cached__',\n",
       " '__doc__',\n",
       " '__file__',\n",
       " '__loader__',\n",
       " '__name__',\n",
       " '__package__',\n",
       " '__spec__',\n",
       " 'iskeyword',\n",
       " 'issoftkeyword',\n",
       " 'kwlist',\n",
       " 'softkwlist']"
      ]
     },
     "execution_count": 12,
     "metadata": {},
     "output_type": "execute_result"
    }
   ],
   "source": [
    "# Getting list of all methods in the keyword library\n",
    "dir(keyword)"
   ]
  },
  {
   "cell_type": "markdown",
   "id": "58c89245",
   "metadata": {},
   "source": [
    "### type()"
   ]
  },
  {
   "cell_type": "code",
   "execution_count": 13,
   "id": "a59acf21",
   "metadata": {},
   "outputs": [
    {
     "data": {
      "text/plain": [
       "int"
      ]
     },
     "execution_count": 13,
     "metadata": {},
     "output_type": "execute_result"
    }
   ],
   "source": [
    "a = 1\n",
    "type(a)"
   ]
  },
  {
   "cell_type": "code",
   "execution_count": 14,
   "id": "fac8705c",
   "metadata": {},
   "outputs": [
    {
     "data": {
      "text/plain": [
       "float"
      ]
     },
     "execution_count": 14,
     "metadata": {},
     "output_type": "execute_result"
    }
   ],
   "source": [
    "b = 2.5\n",
    "type(b)"
   ]
  },
  {
   "cell_type": "code",
   "execution_count": 15,
   "id": "7c1eef4f",
   "metadata": {},
   "outputs": [
    {
     "data": {
      "text/plain": [
       "str"
      ]
     },
     "execution_count": 15,
     "metadata": {},
     "output_type": "execute_result"
    }
   ],
   "source": [
    "c = 'Hello'\n",
    "type(c)"
   ]
  },
  {
   "cell_type": "code",
   "execution_count": 16,
   "id": "58e8494d",
   "metadata": {},
   "outputs": [
    {
     "data": {
      "text/plain": [
       "bool"
      ]
     },
     "execution_count": 16,
     "metadata": {},
     "output_type": "execute_result"
    }
   ],
   "source": [
    "d = False\n",
    "type(d)"
   ]
  },
  {
   "cell_type": "code",
   "execution_count": 17,
   "id": "3f11bd4b",
   "metadata": {},
   "outputs": [
    {
     "data": {
      "text/plain": [
       "list"
      ]
     },
     "execution_count": 17,
     "metadata": {},
     "output_type": "execute_result"
    }
   ],
   "source": [
    "e = [1,2,3]\n",
    "type(e)"
   ]
  },
  {
   "cell_type": "code",
   "execution_count": 18,
   "id": "e5fdf16d",
   "metadata": {},
   "outputs": [
    {
     "data": {
      "text/plain": [
       "tuple"
      ]
     },
     "execution_count": 18,
     "metadata": {},
     "output_type": "execute_result"
    }
   ],
   "source": [
    "f = (10,20,30)\n",
    "type(f)"
   ]
  },
  {
   "cell_type": "code",
   "execution_count": 19,
   "id": "13bee5bc",
   "metadata": {},
   "outputs": [
    {
     "data": {
      "text/plain": [
       "set"
      ]
     },
     "execution_count": 19,
     "metadata": {},
     "output_type": "execute_result"
    }
   ],
   "source": [
    "g = {1,2,3}\n",
    "type(g)"
   ]
  },
  {
   "cell_type": "code",
   "execution_count": 20,
   "id": "4c4de853",
   "metadata": {},
   "outputs": [
    {
     "data": {
      "text/plain": [
       "dict"
      ]
     },
     "execution_count": 20,
     "metadata": {},
     "output_type": "execute_result"
    }
   ],
   "source": [
    "h = {1:10, 2:20, 3:30}\n",
    "type(h)"
   ]
  },
  {
   "cell_type": "markdown",
   "id": "e1016a34",
   "metadata": {},
   "source": [
    "### Data types and structures"
   ]
  },
  {
   "cell_type": "code",
   "execution_count": 22,
   "id": "fc50040d",
   "metadata": {},
   "outputs": [
    {
     "name": "stdout",
     "output_type": "stream",
     "text": [
      "x: Orange\n",
      "y: Yellow\n",
      "\n",
      "x==y: False\n",
      "x is y: False\n",
      "x!=y: True\n",
      "x True\n",
      "x>y False\n",
      "1=='1': False\n"
     ]
    }
   ],
   "source": [
    "x = \"Orange\"  # using double quotes\n",
    "y = 'Yellow'  # using single quotes\n",
    "\n",
    "print(\"x:\", x)\n",
    "print(\"y:\", y)\n",
    "\n",
    "# equal to\n",
    "print(\"\\nx==y:\", x == y)\n",
    "\n",
    "# is statement is equivalent to ==\n",
    "print(\"x is y:\", x is y)\n",
    "\n",
    "# not equal to\n",
    "print(\"x!=y:\", x != y)\n",
    "\n",
    "# less than, returns true as 'o' comes before 'y'\n",
    "print(\"x\", x < y)\n",
    "\n",
    "# greater than, returns false as 'o' comes before 'y'\n",
    "print(\"x>y\", x > y)\n",
    "\n",
    "# 1 is an integer while '1' is a string\n",
    "print(\"1=='1':\", 1 == '1')"
   ]
  },
  {
   "cell_type": "code",
   "execution_count": 23,
   "id": "bb177aa2",
   "metadata": {},
   "outputs": [
    {
     "data": {
      "text/plain": [
       "''"
      ]
     },
     "execution_count": 23,
     "metadata": {},
     "output_type": "execute_result"
    }
   ],
   "source": [
    "# This is an empty string\n",
    "s = ''\n",
    "s"
   ]
  },
  {
   "cell_type": "code",
   "execution_count": 24,
   "id": "0b0e45a7",
   "metadata": {},
   "outputs": [
    {
     "name": "stdout",
     "output_type": "stream",
     "text": [
      "s1: abcdef\n",
      "s2: abcdef\n",
      "s1 == s2: True\n",
      "s1 is s2: True\n",
      "\n",
      "s3: abc-def\n",
      "s4: abc-def\n",
      "s3 == s4: True\n",
      "s3 is s4: False\n"
     ]
    }
   ],
   "source": [
    "# A String Peculiarity\n",
    "\n",
    "s1 = 'abcdef'\n",
    "s2 = 'abcdef'\n",
    "print('s1:', s1)\n",
    "print('s2:', s2)\n",
    "print(\"s1 == s2:\", s1 == s2)  # returns True\n",
    "print(\"s1 is s2:\", s1 is s2)  # returns True\n",
    "\n",
    "s3 = 'abc-def'\n",
    "s4 = 'abc-def'\n",
    "print('\\ns3:', s3)\n",
    "print('s4:', s4)\n",
    "print(\"s3 == s4:\", s3 == s4)  # returns True\n",
    "\n",
    "# returns False because of the introduction of special character\n",
    "print(\"s3 is s4:\", s3 is s4)"
   ]
  },
  {
   "cell_type": "code",
   "execution_count": 25,
   "id": "110cdb5f",
   "metadata": {},
   "outputs": [
    {
     "name": "stdout",
     "output_type": "stream",
     "text": [
      "s: This is a sample text.\n",
      "\n",
      "Length of the string 's' is: 22\n"
     ]
    }
   ],
   "source": [
    "s = \"This is a sample text.\"\n",
    "print(\"s:\", s)\n",
    "\n",
    "# special characters and white spaces are also counted\n",
    "print(\"\\nLength of the string 's' is:\", len(s))"
   ]
  },
  {
   "cell_type": "code",
   "execution_count": 26,
   "id": "35e39817",
   "metadata": {},
   "outputs": [
    {
     "name": "stdout",
     "output_type": "stream",
     "text": [
      "a: This is a sample string\n",
      "\n",
      "'sample' in a: True\n",
      "'test' in a: False\n",
      "'sample' not in a: False\n"
     ]
    }
   ],
   "source": [
    "a = \"This is a sample string\"\n",
    "print(\"a:\", a)\n",
    "\n",
    "print(\"\\n'sample' in a:\", 'sample' in a)\n",
    "print(\"'test' in a:\", 'test' in a)\n",
    "print(\"'sample' not in a:\", 'sample' not in a)  # not in means not a substring"
   ]
  },
  {
   "cell_type": "code",
   "execution_count": 28,
   "id": "9c240b60",
   "metadata": {},
   "outputs": [
    {
     "name": "stdout",
     "output_type": "stream",
     "text": [
      "s: Some text\n",
      "len(s): 9\n",
      "\n",
      "First character, s[0]: S\n",
      "\n",
      "Character at index position 7, s[7]: x\n",
      "\n",
      "Last character, ,s[length-1]: t\n",
      "\n",
      "Last character using negative indexing, s[-1]: t\n",
      "\n",
      "Character at index position 4 from the end, s[-4]: t\n",
      "\n",
      "First character, s[-(length)]: S\n"
     ]
    }
   ],
   "source": [
    "s = \"Some text\"\n",
    "print(\"s:\", s)\n",
    "length = len(s)\n",
    "print(\"len(s):\", length)\n",
    "\n",
    "print(\"\\nFirst character, s[0]:\", s[0])  # first character\n",
    "\n",
    "# fetches the character at index position 7 in the string\n",
    "print(\"\\nCharacter at index position 7, s[7]:\", s[7])\n",
    "\n",
    "# last character\n",
    "print(\"\\nLast character, ,s[length-1]:\", s[length - 1])\n",
    "\n",
    "# Negative indexing is also possible, fetches last element\n",
    "print(\"\\nLast character using negative indexing, s[-1]:\", s[-1])\n",
    "\n",
    "# fetches 4th element from the end (equivalent to index position 7 from the beginning)\n",
    "print(\"\\nCharacter at index position 4 from the end, s[-4]:\", s[-4])\n",
    "\n",
    "# fetches first element (equivalent to s[0])\n",
    "print(\"\\nFirst character, s[-(length)]:\", s[-(length)])"
   ]
  },
  {
   "cell_type": "code",
   "execution_count": null,
   "id": "baf5cf7c",
   "metadata": {},
   "outputs": [],
   "source": []
  }
 ],
 "metadata": {
  "kernelspec": {
   "display_name": "Python 3 (ipykernel)",
   "language": "python",
   "name": "python3"
  },
  "language_info": {
   "codemirror_mode": {
    "name": "ipython",
    "version": 3
   },
   "file_extension": ".py",
   "mimetype": "text/x-python",
   "name": "python",
   "nbconvert_exporter": "python",
   "pygments_lexer": "ipython3",
   "version": "3.10.8"
  }
 },
 "nbformat": 4,
 "nbformat_minor": 5
}
